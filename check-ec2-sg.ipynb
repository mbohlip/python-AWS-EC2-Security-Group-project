{
 "cells": [
  {
   "cell_type": "markdown",
   "metadata": {},
   "source": [
    "### Phase 1: Import Modules"
   ]
  },
  {
   "cell_type": "code",
   "execution_count": 137,
   "metadata": {},
   "outputs": [],
   "source": [
    "# Import boto3 and json modules\n",
    "# json module is required and every aws response is given in json format.\n",
    "\n",
    "import boto3\n",
    "import json"
   ]
  },
  {
   "cell_type": "code",
   "execution_count": 138,
   "metadata": {},
   "outputs": [],
   "source": [
    "# Create ec2 client\n",
    "\n",
    "client = boto3.client('ec2')\n",
    "\n",
    "# check this url to find all the methods that can be used with ec2 client\n",
    "# https://boto3.amazonaws.com/v1/documentation/api/latest/reference/services/ec2.html"
   ]
  },
  {
   "cell_type": "markdown",
   "metadata": {},
   "source": [
    "### Phase 2: Get the list of security groups with ssh rule open to the world"
   ]
  },
  {
   "cell_type": "code",
   "execution_count": 139,
   "metadata": {},
   "outputs": [],
   "source": [
    "# scan all security groups in our aws account\n",
    "sg_rules = client.describe_security_group_rules().get('SecurityGroupRules')"
   ]
  },
  {
   "cell_type": "code",
   "execution_count": 140,
   "metadata": {},
   "outputs": [
    {
     "data": {
      "text/plain": [
       "{'sg-0161af317ef49e2ee',\n",
       " 'sg-03352996fd1aa33e4',\n",
       " 'sg-0346cac00c1ca954b',\n",
       " 'sg-088bf9b8fc8cb6fbf',\n",
       " 'sg-08bb57f369cb9f105',\n",
       " 'sg-0ab033979b01aaeab',\n",
       " 'sg-0b52c68e9eb84e6e2',\n",
       " 'sg-0b874162485f503f9'}"
      ]
     },
     "execution_count": 140,
     "metadata": {},
     "output_type": "execute_result"
    }
   ],
   "source": [
    "# get a list of all security group id\n",
    "sg_list = [] # will possibly contain duplicate values\n",
    "\n",
    "for item in sg_rules:\n",
    "    sg = item.get('GroupId')\n",
    "    sg_list.append(sg)\n",
    "sg_id_list = set(sg_list) # Get a list of unique values\n",
    "sg_id_list"
   ]
  },
  {
   "cell_type": "code",
   "execution_count": 141,
   "metadata": {},
   "outputs": [
    {
     "data": {
      "text/plain": [
       "['sg-0ab033979b01aaeab',\n",
       " 'sg-0b52c68e9eb84e6e2',\n",
       " 'sg-03352996fd1aa33e4',\n",
       " 'sg-08bb57f369cb9f105',\n",
       " 'sg-0b874162485f503f9']"
      ]
     },
     "execution_count": 141,
     "metadata": {},
     "output_type": "execute_result"
    }
   ],
   "source": [
    "# get a list of all security group id with ssh rule open to the world\n",
    "\n",
    "sg_with_ssh_open_to_world = []\n",
    "\n",
    "for item in sg_rules:\n",
    "    sg = item.get('GroupId')\n",
    "    if item.get('FromPort')==22 and item.get('CidrIpv4')=='0.0.0.0/0':\n",
    "        sg_with_ssh_open_to_world.append(sg)\n",
    "\n",
    "sg_with_ssh_open_to_world"
   ]
  },
  {
   "cell_type": "markdown",
   "metadata": {},
   "source": [
    "### Phase 3: Get the list of ec2 instance in active state that have the sg obtained from phase 2"
   ]
  },
  {
   "cell_type": "code",
   "execution_count": 142,
   "metadata": {},
   "outputs": [
    {
     "data": {
      "text/plain": [
       "[[{'AmiLaunchIndex': 0,\n",
       "   'ImageId': 'ami-0c101f26f147fa7fd',\n",
       "   'InstanceId': 'i-037747891fdecc6ca',\n",
       "   'InstanceType': 't2.micro',\n",
       "   'LaunchTime': datetime.datetime(2024, 4, 1, 8, 43, 24, tzinfo=tzutc()),\n",
       "   'Monitoring': {'State': 'disabled'},\n",
       "   'Placement': {'AvailabilityZone': 'us-east-1a',\n",
       "    'GroupName': '',\n",
       "    'Tenancy': 'default'},\n",
       "   'PrivateDnsName': '',\n",
       "   'ProductCodes': [],\n",
       "   'PublicDnsName': '',\n",
       "   'State': {'Code': 48, 'Name': 'terminated'},\n",
       "   'StateTransitionReason': 'User initiated (2024-04-01 08:47:29 GMT)',\n",
       "   'Architecture': 'x86_64',\n",
       "   'BlockDeviceMappings': [],\n",
       "   'ClientToken': '9f45a969-2096-4e67-bc65-d81bb5629d90',\n",
       "   'EbsOptimized': False,\n",
       "   'EnaSupport': True,\n",
       "   'Hypervisor': 'xen',\n",
       "   'NetworkInterfaces': [],\n",
       "   'RootDeviceName': '/dev/xvda',\n",
       "   'RootDeviceType': 'ebs',\n",
       "   'SecurityGroups': [],\n",
       "   'StateReason': {'Code': 'Client.UserInitiatedShutdown',\n",
       "    'Message': 'Client.UserInitiatedShutdown: User initiated shutdown'},\n",
       "   'Tags': [{'Key': 'Name', 'Value': 'test1'}],\n",
       "   'VirtualizationType': 'hvm',\n",
       "   'CpuOptions': {'CoreCount': 1, 'ThreadsPerCore': 1},\n",
       "   'CapacityReservationSpecification': {'CapacityReservationPreference': 'open'},\n",
       "   'HibernationOptions': {'Configured': False},\n",
       "   'MetadataOptions': {'State': 'pending',\n",
       "    'HttpTokens': 'required',\n",
       "    'HttpPutResponseHopLimit': 2,\n",
       "    'HttpEndpoint': 'enabled',\n",
       "    'HttpProtocolIpv6': 'disabled',\n",
       "    'InstanceMetadataTags': 'disabled'},\n",
       "   'EnclaveOptions': {'Enabled': False},\n",
       "   'BootMode': 'uefi-preferred',\n",
       "   'PlatformDetails': 'Linux/UNIX',\n",
       "   'UsageOperation': 'RunInstances',\n",
       "   'UsageOperationUpdateTime': datetime.datetime(2024, 4, 1, 8, 43, 24, tzinfo=tzutc()),\n",
       "   'MaintenanceOptions': {'AutoRecovery': 'default'},\n",
       "   'CurrentInstanceBootMode': 'legacy-bios'},\n",
       "  {'AmiLaunchIndex': 2,\n",
       "   'ImageId': 'ami-0c101f26f147fa7fd',\n",
       "   'InstanceId': 'i-0026a5f5582517360',\n",
       "   'InstanceType': 't2.micro',\n",
       "   'LaunchTime': datetime.datetime(2024, 4, 1, 8, 43, 24, tzinfo=tzutc()),\n",
       "   'Monitoring': {'State': 'disabled'},\n",
       "   'Placement': {'AvailabilityZone': 'us-east-1a',\n",
       "    'GroupName': '',\n",
       "    'Tenancy': 'default'},\n",
       "   'PrivateDnsName': '',\n",
       "   'ProductCodes': [],\n",
       "   'PublicDnsName': '',\n",
       "   'State': {'Code': 48, 'Name': 'terminated'},\n",
       "   'StateTransitionReason': 'User initiated (2024-04-01 08:47:29 GMT)',\n",
       "   'Architecture': 'x86_64',\n",
       "   'BlockDeviceMappings': [],\n",
       "   'ClientToken': '9f45a969-2096-4e67-bc65-d81bb5629d90',\n",
       "   'EbsOptimized': False,\n",
       "   'EnaSupport': True,\n",
       "   'Hypervisor': 'xen',\n",
       "   'NetworkInterfaces': [],\n",
       "   'RootDeviceName': '/dev/xvda',\n",
       "   'RootDeviceType': 'ebs',\n",
       "   'SecurityGroups': [],\n",
       "   'StateReason': {'Code': 'Client.UserInitiatedShutdown',\n",
       "    'Message': 'Client.UserInitiatedShutdown: User initiated shutdown'},\n",
       "   'Tags': [{'Key': 'Name', 'Value': 'test1'}],\n",
       "   'VirtualizationType': 'hvm',\n",
       "   'CpuOptions': {'CoreCount': 1, 'ThreadsPerCore': 1},\n",
       "   'CapacityReservationSpecification': {'CapacityReservationPreference': 'open'},\n",
       "   'HibernationOptions': {'Configured': False},\n",
       "   'MetadataOptions': {'State': 'pending',\n",
       "    'HttpTokens': 'required',\n",
       "    'HttpPutResponseHopLimit': 2,\n",
       "    'HttpEndpoint': 'enabled',\n",
       "    'HttpProtocolIpv6': 'disabled',\n",
       "    'InstanceMetadataTags': 'disabled'},\n",
       "   'EnclaveOptions': {'Enabled': False},\n",
       "   'BootMode': 'uefi-preferred',\n",
       "   'PlatformDetails': 'Linux/UNIX',\n",
       "   'UsageOperation': 'RunInstances',\n",
       "   'UsageOperationUpdateTime': datetime.datetime(2024, 4, 1, 8, 43, 24, tzinfo=tzutc()),\n",
       "   'MaintenanceOptions': {'AutoRecovery': 'default'},\n",
       "   'CurrentInstanceBootMode': 'legacy-bios'},\n",
       "  {'AmiLaunchIndex': 1,\n",
       "   'ImageId': 'ami-0c101f26f147fa7fd',\n",
       "   'InstanceId': 'i-00bdccb6ab27fe8d4',\n",
       "   'InstanceType': 't2.micro',\n",
       "   'LaunchTime': datetime.datetime(2024, 4, 1, 8, 43, 24, tzinfo=tzutc()),\n",
       "   'Monitoring': {'State': 'disabled'},\n",
       "   'Placement': {'AvailabilityZone': 'us-east-1a',\n",
       "    'GroupName': '',\n",
       "    'Tenancy': 'default'},\n",
       "   'PrivateDnsName': '',\n",
       "   'ProductCodes': [],\n",
       "   'PublicDnsName': '',\n",
       "   'State': {'Code': 48, 'Name': 'terminated'},\n",
       "   'StateTransitionReason': 'User initiated (2024-04-01 08:47:29 GMT)',\n",
       "   'Architecture': 'x86_64',\n",
       "   'BlockDeviceMappings': [],\n",
       "   'ClientToken': '9f45a969-2096-4e67-bc65-d81bb5629d90',\n",
       "   'EbsOptimized': False,\n",
       "   'EnaSupport': True,\n",
       "   'Hypervisor': 'xen',\n",
       "   'NetworkInterfaces': [],\n",
       "   'RootDeviceName': '/dev/xvda',\n",
       "   'RootDeviceType': 'ebs',\n",
       "   'SecurityGroups': [],\n",
       "   'StateReason': {'Code': 'Client.UserInitiatedShutdown',\n",
       "    'Message': 'Client.UserInitiatedShutdown: User initiated shutdown'},\n",
       "   'Tags': [{'Key': 'Name', 'Value': 'test1'}],\n",
       "   'VirtualizationType': 'hvm',\n",
       "   'CpuOptions': {'CoreCount': 1, 'ThreadsPerCore': 1},\n",
       "   'CapacityReservationSpecification': {'CapacityReservationPreference': 'open'},\n",
       "   'HibernationOptions': {'Configured': False},\n",
       "   'MetadataOptions': {'State': 'pending',\n",
       "    'HttpTokens': 'required',\n",
       "    'HttpPutResponseHopLimit': 2,\n",
       "    'HttpEndpoint': 'enabled',\n",
       "    'HttpProtocolIpv6': 'disabled',\n",
       "    'InstanceMetadataTags': 'disabled'},\n",
       "   'EnclaveOptions': {'Enabled': False},\n",
       "   'BootMode': 'uefi-preferred',\n",
       "   'PlatformDetails': 'Linux/UNIX',\n",
       "   'UsageOperation': 'RunInstances',\n",
       "   'UsageOperationUpdateTime': datetime.datetime(2024, 4, 1, 8, 43, 24, tzinfo=tzutc()),\n",
       "   'MaintenanceOptions': {'AutoRecovery': 'default'},\n",
       "   'CurrentInstanceBootMode': 'legacy-bios'},\n",
       "  {'AmiLaunchIndex': 4,\n",
       "   'ImageId': 'ami-0c101f26f147fa7fd',\n",
       "   'InstanceId': 'i-0be9335d6d5de90ce',\n",
       "   'InstanceType': 't2.micro',\n",
       "   'LaunchTime': datetime.datetime(2024, 4, 1, 8, 43, 24, tzinfo=tzutc()),\n",
       "   'Monitoring': {'State': 'disabled'},\n",
       "   'Placement': {'AvailabilityZone': 'us-east-1a',\n",
       "    'GroupName': '',\n",
       "    'Tenancy': 'default'},\n",
       "   'PrivateDnsName': '',\n",
       "   'ProductCodes': [],\n",
       "   'PublicDnsName': '',\n",
       "   'State': {'Code': 48, 'Name': 'terminated'},\n",
       "   'StateTransitionReason': 'User initiated (2024-04-01 08:47:29 GMT)',\n",
       "   'Architecture': 'x86_64',\n",
       "   'BlockDeviceMappings': [],\n",
       "   'ClientToken': '9f45a969-2096-4e67-bc65-d81bb5629d90',\n",
       "   'EbsOptimized': False,\n",
       "   'EnaSupport': True,\n",
       "   'Hypervisor': 'xen',\n",
       "   'NetworkInterfaces': [],\n",
       "   'RootDeviceName': '/dev/xvda',\n",
       "   'RootDeviceType': 'ebs',\n",
       "   'SecurityGroups': [],\n",
       "   'StateReason': {'Code': 'Client.UserInitiatedShutdown',\n",
       "    'Message': 'Client.UserInitiatedShutdown: User initiated shutdown'},\n",
       "   'Tags': [{'Key': 'Name', 'Value': 'test1'}],\n",
       "   'VirtualizationType': 'hvm',\n",
       "   'CpuOptions': {'CoreCount': 1, 'ThreadsPerCore': 1},\n",
       "   'CapacityReservationSpecification': {'CapacityReservationPreference': 'open'},\n",
       "   'HibernationOptions': {'Configured': False},\n",
       "   'MetadataOptions': {'State': 'pending',\n",
       "    'HttpTokens': 'required',\n",
       "    'HttpPutResponseHopLimit': 2,\n",
       "    'HttpEndpoint': 'enabled',\n",
       "    'HttpProtocolIpv6': 'disabled',\n",
       "    'InstanceMetadataTags': 'disabled'},\n",
       "   'EnclaveOptions': {'Enabled': False},\n",
       "   'BootMode': 'uefi-preferred',\n",
       "   'PlatformDetails': 'Linux/UNIX',\n",
       "   'UsageOperation': 'RunInstances',\n",
       "   'UsageOperationUpdateTime': datetime.datetime(2024, 4, 1, 8, 43, 24, tzinfo=tzutc()),\n",
       "   'MaintenanceOptions': {'AutoRecovery': 'default'},\n",
       "   'CurrentInstanceBootMode': 'legacy-bios'},\n",
       "  {'AmiLaunchIndex': 3,\n",
       "   'ImageId': 'ami-0c101f26f147fa7fd',\n",
       "   'InstanceId': 'i-07d671590275c6d8b',\n",
       "   'InstanceType': 't2.micro',\n",
       "   'LaunchTime': datetime.datetime(2024, 4, 1, 8, 43, 24, tzinfo=tzutc()),\n",
       "   'Monitoring': {'State': 'disabled'},\n",
       "   'Placement': {'AvailabilityZone': 'us-east-1a',\n",
       "    'GroupName': '',\n",
       "    'Tenancy': 'default'},\n",
       "   'PrivateDnsName': 'ip-172-31-17-219.ec2.internal',\n",
       "   'PrivateIpAddress': '172.31.17.219',\n",
       "   'ProductCodes': [],\n",
       "   'PublicDnsName': 'ec2-3-208-21-58.compute-1.amazonaws.com',\n",
       "   'PublicIpAddress': '3.208.21.58',\n",
       "   'State': {'Code': 32, 'Name': 'shutting-down'},\n",
       "   'StateTransitionReason': 'User initiated (2024-04-01 08:47:29 GMT)',\n",
       "   'SubnetId': 'subnet-0627b2425da812817',\n",
       "   'VpcId': 'vpc-09163da5a09a3a6b7',\n",
       "   'Architecture': 'x86_64',\n",
       "   'BlockDeviceMappings': [{'DeviceName': '/dev/xvda',\n",
       "     'Ebs': {'AttachTime': datetime.datetime(2024, 4, 1, 8, 43, 25, tzinfo=tzutc()),\n",
       "      'DeleteOnTermination': True,\n",
       "      'Status': 'attached',\n",
       "      'VolumeId': 'vol-01d629c3f740e859f'}}],\n",
       "   'ClientToken': '9f45a969-2096-4e67-bc65-d81bb5629d90',\n",
       "   'EbsOptimized': False,\n",
       "   'EnaSupport': True,\n",
       "   'Hypervisor': 'xen',\n",
       "   'NetworkInterfaces': [{'Association': {'IpOwnerId': 'amazon',\n",
       "      'PublicDnsName': 'ec2-3-208-21-58.compute-1.amazonaws.com',\n",
       "      'PublicIp': '3.208.21.58'},\n",
       "     'Attachment': {'AttachTime': datetime.datetime(2024, 4, 1, 8, 43, 24, tzinfo=tzutc()),\n",
       "      'AttachmentId': 'eni-attach-01a6f66e1195cdd42',\n",
       "      'DeleteOnTermination': True,\n",
       "      'DeviceIndex': 0,\n",
       "      'Status': 'attached',\n",
       "      'NetworkCardIndex': 0},\n",
       "     'Description': '',\n",
       "     'Groups': [{'GroupName': 'launch-wizard-5',\n",
       "       'GroupId': 'sg-0b52c68e9eb84e6e2'}],\n",
       "     'Ipv6Addresses': [],\n",
       "     'MacAddress': '0a:ff:ca:2d:3e:23',\n",
       "     'NetworkInterfaceId': 'eni-0202c686bf5b01883',\n",
       "     'OwnerId': '821363534163',\n",
       "     'PrivateDnsName': 'ip-172-31-17-219.ec2.internal',\n",
       "     'PrivateIpAddress': '172.31.17.219',\n",
       "     'PrivateIpAddresses': [{'Association': {'IpOwnerId': 'amazon',\n",
       "        'PublicDnsName': 'ec2-3-208-21-58.compute-1.amazonaws.com',\n",
       "        'PublicIp': '3.208.21.58'},\n",
       "       'Primary': True,\n",
       "       'PrivateDnsName': 'ip-172-31-17-219.ec2.internal',\n",
       "       'PrivateIpAddress': '172.31.17.219'}],\n",
       "     'SourceDestCheck': True,\n",
       "     'Status': 'in-use',\n",
       "     'SubnetId': 'subnet-0627b2425da812817',\n",
       "     'VpcId': 'vpc-09163da5a09a3a6b7',\n",
       "     'InterfaceType': 'interface'}],\n",
       "   'RootDeviceName': '/dev/xvda',\n",
       "   'RootDeviceType': 'ebs',\n",
       "   'SecurityGroups': [{'GroupName': 'launch-wizard-5',\n",
       "     'GroupId': 'sg-0b52c68e9eb84e6e2'}],\n",
       "   'SourceDestCheck': True,\n",
       "   'StateReason': {'Code': 'Client.UserInitiatedShutdown',\n",
       "    'Message': 'Client.UserInitiatedShutdown: User initiated shutdown'},\n",
       "   'Tags': [{'Key': 'Name', 'Value': 'test1'}],\n",
       "   'VirtualizationType': 'hvm',\n",
       "   'CpuOptions': {'CoreCount': 1, 'ThreadsPerCore': 1},\n",
       "   'CapacityReservationSpecification': {'CapacityReservationPreference': 'open'},\n",
       "   'HibernationOptions': {'Configured': False},\n",
       "   'MetadataOptions': {'State': 'pending',\n",
       "    'HttpTokens': 'required',\n",
       "    'HttpPutResponseHopLimit': 2,\n",
       "    'HttpEndpoint': 'enabled',\n",
       "    'HttpProtocolIpv6': 'disabled',\n",
       "    'InstanceMetadataTags': 'disabled'},\n",
       "   'EnclaveOptions': {'Enabled': False},\n",
       "   'BootMode': 'uefi-preferred',\n",
       "   'PlatformDetails': 'Linux/UNIX',\n",
       "   'UsageOperation': 'RunInstances',\n",
       "   'UsageOperationUpdateTime': datetime.datetime(2024, 4, 1, 8, 43, 24, tzinfo=tzutc()),\n",
       "   'PrivateDnsNameOptions': {'HostnameType': 'ip-name',\n",
       "    'EnableResourceNameDnsARecord': True,\n",
       "    'EnableResourceNameDnsAAAARecord': False},\n",
       "   'MaintenanceOptions': {'AutoRecovery': 'default'},\n",
       "   'CurrentInstanceBootMode': 'legacy-bios'}]]"
      ]
     },
     "execution_count": 142,
     "metadata": {},
     "output_type": "execute_result"
    }
   ],
   "source": [
    "# Get the list of all active ec2 instances in our account\n",
    "\n",
    "resource = client.describe_instances().get('Reservations')  # Here, we filter to get only the list of the key \"Reservation\"\n",
    "\n",
    "ec2_instances = [] # Here, we will filter the reservation list and get the sub-list with key \"Instances\"\n",
    "\n",
    "for item in resource:\n",
    "    instance = item.get('Instances')\n",
    "    ec2_instances.append(instance)\n",
    "\n",
    "ec2_instances"
   ]
  },
  {
   "cell_type": "code",
   "execution_count": 143,
   "metadata": {},
   "outputs": [
    {
     "data": {
      "text/plain": [
       "[]"
      ]
     },
     "execution_count": 143,
     "metadata": {},
     "output_type": "execute_result"
    }
   ],
   "source": [
    "# We extract all instance with state in either \"running\" or \"stopped\"\n",
    "running_ec2_instances = []\n",
    "\n",
    "for item1 in ec2_instances:\n",
    "    for item2 in item1:\n",
    "        v = item2.get('State').get('Name')\n",
    "        if v not in ('running', 'stopped'):\n",
    "            pass\n",
    "        else:\n",
    "            running_ec2_instances.append(item2)\n",
    "\n",
    "running_ec2_instances"
   ]
  },
  {
   "cell_type": "code",
   "execution_count": 144,
   "metadata": {},
   "outputs": [
    {
     "name": "stdout",
     "output_type": "stream",
     "text": [
      "[]\n",
      "0 ec2 instance found.\n"
     ]
    }
   ],
   "source": [
    "running_ec2_instances_id = [] # all ec2 instance id with security ssh rule open to the world\n",
    "count = 0 # To enable us count the number of instances that will be terminated\n",
    "\n",
    "for item1 in running_ec2_instances:  # we loop into the securityGroups list to get the security group id\n",
    "    id = item1.get('InstanceId')\n",
    "    sg = item1.get('SecurityGroups')\n",
    "    for item2 in sg:\n",
    "        sg_id = item2.get('GroupId') # we loop into the securityGroups list to get the security group id\n",
    "        if sg_id in sg_with_ssh_open_to_world:\n",
    "            running_ec2_instances_id.append(id)\n",
    "            count = count+1\n",
    "running_ec2_instances_id = list(set(running_ec2_instances_id)) # remove all duplicates using the \"set\" function, then converting it to a list\n",
    "print(running_ec2_instances_id)\n",
    "print(count,\"ec2 instance found.\")"
   ]
  },
  {
   "cell_type": "markdown",
   "metadata": {},
   "source": [
    "### Phase 4: Take remedy actions"
   ]
  },
  {
   "cell_type": "code",
   "execution_count": 145,
   "metadata": {},
   "outputs": [
    {
     "name": "stdout",
     "output_type": "stream",
     "text": [
      "There is no running ec2 intance with security group ssh rule opened to the world\n"
     ]
    }
   ],
   "source": [
    "# We will terminate all ec2 instance id obtained from phase 3.\n",
    "\n",
    "try:\n",
    "    response = client.terminate_instances(InstanceIds = running_ec2_instances_id)\n",
    "    print(count, \"ec2 instances have been successfully terminated.\")\n",
    "except:\n",
    "    print('There is no running ec2 intance with security group ssh rule opened to the world')"
   ]
  }
 ],
 "metadata": {
  "kernelspec": {
   "display_name": "Python 3",
   "language": "python",
   "name": "python3"
  },
  "language_info": {
   "codemirror_mode": {
    "name": "ipython",
    "version": 3
   },
   "file_extension": ".py",
   "mimetype": "text/x-python",
   "name": "python",
   "nbconvert_exporter": "python",
   "pygments_lexer": "ipython3",
   "version": "3.11.6"
  }
 },
 "nbformat": 4,
 "nbformat_minor": 2
}
